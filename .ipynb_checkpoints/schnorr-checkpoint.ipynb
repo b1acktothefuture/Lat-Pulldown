{
 "cells": [
  {
   "cell_type": "code",
   "execution_count": 2,
   "id": "f6a0e55b",
   "metadata": {},
   "outputs": [],
   "source": [
    "from fpylll import IntegerMatrix, SVP\n",
    "import sys"
   ]
  },
  {
   "cell_type": "code",
   "execution_count": 3,
   "id": "e2b4d1e5",
   "metadata": {},
   "outputs": [],
   "source": [
    "def svp(B):\n",
    "    A = IntegerMatrix.from_matrix(B)\n",
    "    return SVP.shortest_vector(A)"
   ]
  },
  {
   "cell_type": "code",
   "execution_count": 4,
   "id": "9af105e1",
   "metadata": {},
   "outputs": [],
   "source": [
    "def first_primes(n):\n",
    "    p = 1\n",
    "    P = []\n",
    "    while len(P) < n:\n",
    "        p = next_prime(p)\n",
    "        P += [p]\n",
    "    return P\n",
    "\n",
    "def prime_base(b):\n",
    "    p = 1\n",
    "    P = []\n",
    "    while(True):\n",
    "        p = next_prime(p)\n",
    "        if(p > b):\n",
    "            return P\n",
    "        P.append(p)\n",
    "    return []"
   ]
  },
  {
   "cell_type": "code",
   "execution_count": 5,
   "id": "2fa60da4",
   "metadata": {},
   "outputs": [],
   "source": [
    "def is_smooth(x, P):\n",
    "    y = x\n",
    "    for p in P:\n",
    "        while p.divides(y):\n",
    "            y /= p\n",
    "    return abs(y) == 1"
   ]
  },
  {
   "cell_type": "code",
   "execution_count": 8,
   "id": "c1541c16",
   "metadata": {},
   "outputs": [],
   "source": [
    "def test_Schnorr(N, alpha, c, prec=1000):\n",
    "    P = prime_base(int(ln(N)**alpha))\n",
    "    n = len(P)\n",
    "    print(\"Dimension: {}\".format(n))\n",
    "    # Scale up and round\n",
    "    def sr(x):\n",
    "        return round(x * 10^prec)\n",
    "    multiplier = N**c\n",
    "    \n",
    "    \n",
    "#     diag = [sr(ln(P[i])) for i in range(n)] + [sr(t*ln(N))]\n",
    "#     print(diag)\n",
    "#     B = diagonal_matrix(diag, sparse=False)\n",
    "    \n",
    "#     for i in range(n):\n",
    "#         B[i, n] = sr(t*ln(P[i]))\n",
    "\n",
    "    B =  [ [0]*(n+2) for _ in range(n+1) ]\n",
    "    \n",
    "    B[0][0] = 1\n",
    "    B[0][n+1] = sr(multiplier*ln(N))\n",
    "    \n",
    "    for i in range(1,n+1):\n",
    "        B[i][n+1] = sr(multiplier*ln(P[i]))\n",
    "        B[i][i] = sr(ln(P[i]))\n",
    "    \n",
    "    print(B)\n",
    "    \n",
    "    return 0\n",
    "    \n",
    "    b = svp(B)\n",
    "    \n",
    "    e = [b[i] / (sr(ln(P[i]))) for i in range(n)]\n",
    "\n",
    "    u = 1\n",
    "    v = 1\n",
    "    for i in range(n):\n",
    "        assert e[i] in ZZ\n",
    "        if e[i] > 0:\n",
    "            u *= P[i]^e[i]\n",
    "        if e[i] < 0:\n",
    "            v *= P[i]^(-e[i])\n",
    "\n",
    "    return is_smooth(u - v*N, P) "
   ]
  },
  {
   "cell_type": "code",
   "execution_count": 9,
   "id": "13db03b9",
   "metadata": {},
   "outputs": [
    {
     "name": "stdout",
     "output_type": "stream",
     "text": [
      "Dimension: 16\n",
      "[693, 1099, 1609, 1946, 2398, 2565, 2833, 2944, 3135, 3367, 3434, 3611, 3714, 3761, 3850, 3970, 33272844057146792]\n",
      "[              693                 0                 0                 0                 0                 0                 0                 0                 0                 0                 0                 0                 0                 0                 0                 0  2396442434868737]\n",
      "[                0              1099                 0                 0                 0                 0                 0                 0                 0                 0                 0                 0                 0                 0                 0                 0  3798271394403850]\n",
      "[                0                 0              1609                 0                 0                 0                 0                 0                 0                 0                 0                 0                 0                 0                 0                 0  5564367017301999]\n",
      "[                0                 0                 0              1946                 0                 0                 0                 0                 0                 0                 0                 0                 0                 0                 0                 0  6727664464956459]\n",
      "[                0                 0                 0                 0              2398                 0                 0                 0                 0                 0                 0                 0                 0                 0                 0                 0  8290328731429062]\n",
      "[                0                 0                 0                 0                 0              2565                 0                 0                 0                 0                 0                 0                 0                 0                 0                 0  8867890768227023]\n",
      "[                0                 0                 0                 0                 0                 0              2833                 0                 0                 0                 0                 0                 0                 0                 0                 0  9795369403721450]\n",
      "[                0                 0                 0                 0                 0                 0                 0              2944                 0                 0                 0                 0                 0                 0                 0                 0 10179913753462647]\n",
      "[                0                 0                 0                 0                 0                 0                 0                 0              3135                 0                 0                 0                 0                 0                 0                 0 10840455828252856]\n",
      "[                0                 0                 0                 0                 0                 0                 0                 0                 0              3367                 0                 0                 0                 0                 0                 0 11641871804509570]\n",
      "[                0                 0                 0                 0                 0                 0                 0                 0                 0                 0              3434                 0                 0                 0                 0                 0 11872446268881238]\n",
      "[                0                 0                 0                 0                 0                 0                 0                 0                 0                 0                 0              3611                 0                 0                 0                 0 12484155107862979]\n",
      "[                0                 0                 0                 0                 0                 0                 0                 0                 0                 0                 0                 0              3714                 0                 0                 0 12839064970882845]\n",
      "[                0                 0                 0                 0                 0                 0                 0                 0                 0                 0                 0                 0                 0              3761                 0                 0 13003731121000707]\n",
      "[                0                 0                 0                 0                 0                 0                 0                 0                 0                 0                 0                 0                 0                 0              3850                 0 13311252432409101]\n",
      "[                0                 0                 0                 0                 0                 0                 0                 0                 0                 0                 0                 0                 0                 0                 0              3970 13726631640867878]\n",
      "[                0                 0                 0                 0                 0                 0                 0                 0                 0                 0                 0                 0                 0                 0                 0                 0 33272844057146792]\n",
      "False\n"
     ]
    },
    {
     "name": "stderr",
     "output_type": "stream",
     "text": [
      "terminate called after throwing an instance of 'std::range_error'\n",
      "  what():  NaN or inf in target_function (METRIC_PROBABILITY_OF_SHORTEST). Hint: using a higher precision sometimes helps.\n"
     ]
    }
   ],
   "source": [
    "alpha = 1.8\n",
    "c = 3\n",
    "N = 15121\n",
    "\n",
    "n = 125\n",
    "# p = random_prime(2^(bits/2), false, 2^(bits/2-1))\n",
    "# q = random_prime(2^(bits/2), false, 2^(bits/2-1))\n",
    "# N = p*q\n",
    "success = test_Schnorr(N, alpha,c,3)\n",
    "print(success)"
   ]
  },
  {
   "cell_type": "code",
   "execution_count": null,
   "id": "0e58700f",
   "metadata": {},
   "outputs": [],
   "source": []
  },
  {
   "cell_type": "code",
   "execution_count": null,
   "id": "d37c9d5b",
   "metadata": {},
   "outputs": [],
   "source": []
  }
 ],
 "metadata": {
  "kernelspec": {
   "display_name": "SageMath 9.5",
   "language": "sage",
   "name": "sagemath"
  },
  "language_info": {
   "codemirror_mode": {
    "name": "ipython",
    "version": 3
   },
   "file_extension": ".py",
   "mimetype": "text/x-python",
   "name": "python",
   "nbconvert_exporter": "python",
   "pygments_lexer": "ipython3",
   "version": "3.10.4"
  }
 },
 "nbformat": 4,
 "nbformat_minor": 5
}
