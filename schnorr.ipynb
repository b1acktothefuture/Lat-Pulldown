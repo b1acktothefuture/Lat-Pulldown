{
 "cells": [
  {
   "cell_type": "code",
   "execution_count": 1,
   "id": "f6a0e55b",
   "metadata": {
    "vscode": {
     "languageId": "python"
    }
   },
   "outputs": [],
   "source": [
    "from fpylll import IntegerMatrix, SVP\n",
    "import sys"
   ]
  },
  {
   "cell_type": "code",
   "execution_count": 18,
   "id": "e2b4d1e5",
   "metadata": {
    "vscode": {
     "languageId": "python"
    }
   },
   "outputs": [],
   "source": [
    "def svp(B):\n",
    "    A = IntegerMatrix.from_matrix(B)\n",
    "    return SVP.shortest_vector(A)\n",
    "\n",
    "def cvp(B,t):\n",
    "    # returns lattice point closest to t\n",
    "    pass\n",
    "\n",
    "def babai(B,t):\n",
    "    # reduces the basis and returns the cv using babai's algo.\n",
    "    pass\n",
    "\n",
    "def apprix_svp(B):\n",
    "    # use enum methods with pruning wo find approx short vectors satisfying condition (8)\n",
    "    pass"
   ]
  },
  {
   "cell_type": "code",
   "execution_count": 19,
   "id": "9af105e1",
   "metadata": {
    "vscode": {
     "languageId": "python"
    }
   },
   "outputs": [],
   "source": [
    "def first_primes(n):\n",
    "    p = 1\n",
    "    P = []\n",
    "    while len(P) < n:\n",
    "        p = next_prime(p)\n",
    "        P += [p]\n",
    "    return P\n",
    "\n",
    "def prime_base(b):\n",
    "    p = 1\n",
    "    P = []\n",
    "    while(True):\n",
    "        p = next_prime(p)\n",
    "        if(p > b):\n",
    "            return P\n",
    "        P.append(p)\n",
    "    return []"
   ]
  },
  {
   "cell_type": "code",
   "execution_count": 20,
   "id": "2fa60da4",
   "metadata": {
    "vscode": {
     "languageId": "python"
    }
   },
   "outputs": [],
   "source": [
    "def is_smooth(x, P):\n",
    "    y = x\n",
    "    for p in P:\n",
    "        while p.divides(y):\n",
    "            y /= p\n",
    "    return abs(y) == 1"
   ]
  },
  {
   "cell_type": "code",
   "execution_count": 21,
   "id": "3e512cea",
   "metadata": {
    "vscode": {
     "languageId": "python"
    }
   },
   "outputs": [],
   "source": [
    "def factorize_smooth(n, primes):\n",
    "    if(n<0):\n",
    "        n = -n\n",
    "    exponents = [0]*len(primes)\n",
    "    for i in range(len(primes)):\n",
    "        if(n == 1):\n",
    "            return exponents\n",
    "        if(n < primes[i]):\n",
    "            return []\n",
    "        while(n % primes[i] == 0):\n",
    "            n /= primes[i]\n",
    "            exponents[i] += 1\n",
    "    return []"
   ]
  },
  {
   "cell_type": "code",
   "execution_count": 22,
   "id": "c1541c16",
   "metadata": {
    "vscode": {
     "languageId": "python"
    }
   },
   "outputs": [],
   "source": [
    "def fac_relation(N, P, c, prec=1000):\n",
    "    n = len(P)\n",
    "    multiplier = N**c\n",
    "    \n",
    "    def sr(x):\n",
    "        return round(x * 10^prec)\n",
    "    \n",
    "    B =  [ [0]*(n+2) for _ in range(n+1) ]\n",
    "    B[0][0] = 1\n",
    "    B[0][n+1] = sr(multiplier*ln(N))\n",
    "    \n",
    "    for i in range(1,n+1):\n",
    "        B[i][n+1] = sr(multiplier*ln(P[i-1]))\n",
    "        B[i][i] = sr(ln(P[i-1]))\n",
    "    \n",
    "\n",
    "    s = list(svp(B))\n",
    "    # Use approximate svp, stronger basis reduction, babai's nearest plane\n",
    "\n",
    "    print(s)\n",
    "    assert abs(s[0]) == 1\n",
    "    \n",
    "    if(s[0] == 1):\n",
    "        for i in range(len(s)):\n",
    "            s[i] = -1*s[i]\n",
    "\n",
    "    \n",
    "    e = [s[i+1] / (sr(ln(P[i]))) for i in range(n)]\n",
    "    \n",
    "    u = 1\n",
    "    v = 1\n",
    "    a = [0]*(len(P)+1)\n",
    "    \n",
    "    for i in range(n):\n",
    "        assert e[i] in ZZ\n",
    "        if e[i] > 0:\n",
    "            a[i+1] = e[i]\n",
    "            u *= P[i]**e[i]\n",
    "        if e[i] < 0:\n",
    "            v *= P[i]**(-1*e[i])\n",
    "    \n",
    "    \n",
    "    b = [0] + factorize_smooth(u - v*N, P)\n",
    "    if(len(b) == 1):\n",
    "        return []\n",
    "    \n",
    "    if(u<v*N):\n",
    "        b[0] = 1\n",
    "\n",
    "    print(\"Success: \",u,u-v*N)\n",
    "    return [a,b]\n",
    "    "
   ]
  },
  {
   "cell_type": "code",
   "execution_count": 23,
   "id": "b66fe4f7",
   "metadata": {
    "vscode": {
     "languageId": "python"
    }
   },
   "outputs": [],
   "source": [
    "def factor(N, alpha, c, prec=1000):\n",
    "    P = prime_base(int(ln(N)**alpha))\n",
    "    n = len(P)\n",
    "    \n",
    "    for i in P:\n",
    "        if(N%i == 0):\n",
    "            return [i, N/i]\n",
    "    \n",
    "    print(\"Dimension: {}\".format(n))\n",
    "    \n",
    "    return fac_relation(N,P,c,3)\n",
    "    "
   ]
  },
  {
   "cell_type": "code",
   "execution_count": 24,
   "id": "13db03b9",
   "metadata": {
    "vscode": {
     "languageId": "python"
    }
   },
   "outputs": [
    {
     "name": "stdout",
     "output_type": "stream",
     "text": [
      "N: 528322971521 = 592133*892237\n",
      "Dimension: 58\n",
      "[-1, 0, -2198, 1609, 1946, 0, 5130, 0, 0, 0, 0, 3434, -3611, 0, -3761, 0, 0, -4078, 0, 8410, -4263, 0, 4369, 0, 0, 4575, 0, 0, 0, 0, 4727, 0, 0, 0, 0, 0, 0, 0, 0, 0, 5153, 0, 0, 0, 0, 0, 0, 0, 0, 0, 0, 0, 0, 0, 0, 5549, 0, 0, 0, 724]\n",
      "Success:  31690022219757334615 4\n"
     ]
    }
   ],
   "source": [
    "alpha = 1.7\n",
    "c = 1.6\n",
    "\n",
    "bits = 40\n",
    "p = random_prime(2^(bits//2), false, 2^(bits//2-1))\n",
    "q = random_prime(2^(bits//2), false, 2^(bits//2-1))\n",
    "N = p*q\n",
    "\n",
    "print(\"N: {} = {}*{}\".format(N,p,q))\n",
    "# N = 2131438662079\n",
    "success = factor(N, alpha,c,3)\n",
    "# print(success)"
   ]
  },
  {
   "cell_type": "code",
   "execution_count": null,
   "id": "0e58700f",
   "metadata": {
    "vscode": {
     "languageId": "python"
    }
   },
   "outputs": [],
   "source": []
  },
  {
   "cell_type": "code",
   "execution_count": null,
   "id": "d37c9d5b",
   "metadata": {
    "vscode": {
     "languageId": "python"
    }
   },
   "outputs": [],
   "source": []
  }
 ],
 "metadata": {
  "kernelspec": {
   "display_name": "SageMath 9.5",
   "language": "sage",
   "name": "sagemath"
  },
  "language_info": {
   "codemirror_mode": {
    "name": "ipython",
    "version": 3
   },
   "file_extension": ".py",
   "mimetype": "text/x-python",
   "name": "sage",
   "nbconvert_exporter": "python",
   "pygments_lexer": "ipython3",
   "version": "3.10.4"
  }
 },
 "nbformat": 4,
 "nbformat_minor": 5
}
